{
 "cells": [
  {
   "cell_type": "code",
   "execution_count": 1,
   "metadata": {},
   "outputs": [],
   "source": [
    "# Standard libraries\n",
    "import pandas as pd\n",
    "\n",
    "# Text cleaning / preprocessing\n",
    "import spacy as spy\n",
    "import nltk\n",
    "from nltk.corpus import stopwords\n",
    "from sklearn.feature_extraction.text import CountVectorizer\n",
    "\n",
    "# LDA\n",
    "from gensim import corpora\n",
    "from gensim import models\n",
    "from gensim import similarities\n",
    "from gensim import matutils"
   ]
  },
  {
   "cell_type": "code",
   "execution_count": 2,
   "metadata": {},
   "outputs": [],
   "source": [
    "# Things to try\n",
    "# - different amounts of topics\n",
    "# - different corpuses (quotes)"
   ]
  },
  {
   "cell_type": "markdown",
   "metadata": {},
   "source": [
    "### Get data"
   ]
  },
  {
   "cell_type": "code",
   "execution_count": 67,
   "metadata": {},
   "outputs": [],
   "source": [
    "#path = 'text/full_text.txt'\n",
    "path = 'text/quotes.txt'"
   ]
  },
  {
   "cell_type": "code",
   "execution_count": 68,
   "metadata": {},
   "outputs": [],
   "source": [
    "# f = open(path, encoding='utf-8')\n",
    "# raw_text = ''\n",
    "\n",
    "# for line in f:\n",
    "#     line = line.strip()\n",
    "#     raw_text += line"
   ]
  },
  {
   "cell_type": "code",
   "execution_count": 72,
   "metadata": {},
   "outputs": [],
   "source": [
    "# Open file\n",
    "f = open(path, encoding='utf-8')\n",
    "\n",
    "# Instantiate documents list\n",
    "documents = []\n",
    "\n",
    "# Iterate through each line (document), strip newlines, and append to raw_text list\n",
    "for line in f:\n",
    "    documents.append(line.rstrip())"
   ]
  },
  {
   "cell_type": "code",
   "execution_count": 73,
   "metadata": {},
   "outputs": [],
   "source": [
    "# Get rid of extra newlines that resulted in empty strings\n",
    "documents = [doc for doc in documents if doc != '']"
   ]
  },
  {
   "cell_type": "markdown",
   "metadata": {},
   "source": [
    "### Clean + preprocess text"
   ]
  },
  {
   "cell_type": "code",
   "execution_count": 74,
   "metadata": {},
   "outputs": [],
   "source": [
    "def clean_text(document_string):\n",
    "    \"\"\"\n",
    "    Function that takes in a document in\n",
    "    the form of a string, and preprocesses\n",
    "    it, returning a clean string ready\n",
    "    to be used to fit a CountVectorizer.\n",
    "    \n",
    "    Preprocessing includes:\n",
    "    - lowercasing text\n",
    "    - eliminating punctuation\n",
    "    - dealing with edge case punctuation\n",
    "      and formatting\n",
    "    - replacing contractions with\n",
    "      the proper full words\n",
    "      \n",
    "    :param: document_string: str\n",
    "    \n",
    "    :returns: cleaned_text: str\n",
    "    \"\"\"\n",
    "    # Make text lowercase\n",
    "    raw_text = document_string.lower()\n",
    "\n",
    "    # Replace encoding error with a space\n",
    "    raw_text = raw_text.replace('\\xa0', ' ')\n",
    "\n",
    "    # Replace period with a space\n",
    "    raw_text = raw_text.replace('.', '')\n",
    "\n",
    "    # Replace exclamation point with a space\n",
    "    raw_text = raw_text.replace('!', ' ')\n",
    "\n",
    "    # Replace slashes with empty\n",
    "    raw_text = raw_text.replace('/', '')\n",
    "\n",
    "    # Replace questin marks with empty\n",
    "    raw_text = raw_text.replace('??', '')\n",
    "    raw_text = raw_text.replace('?', '')\n",
    "\n",
    "    # Replace dashes with space\n",
    "    raw_text = raw_text.replace('-', ' ')\n",
    "    raw_text = raw_text.replace('—', ' ')\n",
    "\n",
    "    # Replace ... with empty\n",
    "    raw_text = raw_text.replace('…', '')\n",
    "    raw_text = raw_text.replace('...', '')\n",
    "\n",
    "    # Replace commas with empty\n",
    "    raw_text = raw_text.replace(',', '')\n",
    "\n",
    "    # Replace semi-colon with empty\n",
    "    raw_text = raw_text.replace(';', '')\n",
    "\n",
    "    # Get rid of brackets\n",
    "    raw_text = raw_text.replace('[', '')\n",
    "    raw_text = raw_text.replace(']', '')\n",
    "\n",
    "    # Replace quotes with nothing\n",
    "    raw_text = raw_text.replace('“', '')\n",
    "    raw_text = raw_text.replace('”', '')\n",
    "    raw_text = raw_text.replace('\"', '')\n",
    "    raw_text = raw_text.replace(\"‘\", \"\")\n",
    "\n",
    "    # Get rid of backslashes indicating contractions\n",
    "    raw_text = raw_text.replace(r'\\\\', '')\n",
    "\n",
    "    # Replace extra spaces with single space\n",
    "    raw_text = raw_text.replace('   ', ' ')\n",
    "    raw_text = raw_text.replace('  ', ' ')\n",
    "\n",
    "    # Some apostrophes are of a different type --> ’ instead of '\n",
    "    raw_text = raw_text.replace(\"’\", \"'\")\n",
    "\n",
    "    # Replace contractions with full words, organized alphabetically\n",
    "    raw_text = raw_text.replace(\"can't\", 'cannot')\n",
    "    raw_text = raw_text.replace(\"didn't\", 'did not')\n",
    "    raw_text = raw_text.replace(r\"doesn\\'t\", 'does not')\n",
    "    raw_text = raw_text.replace(\"don't\", 'do not')\n",
    "    raw_text = raw_text.replace(\"he's\", 'he is')\n",
    "    raw_text = raw_text.replace(\"i'd\", 'i would')\n",
    "    raw_text = raw_text.replace(\"i'll\", 'i will')\n",
    "    raw_text = raw_text.replace(r\"i\\'m\", 'i am')\n",
    "    raw_text = raw_text.replace(r\"isn\\'t\", 'is not')\n",
    "    raw_text = raw_text.replace(\"it's\", 'it is')\n",
    "    raw_text = raw_text.replace(\"nobody's\", 'nobody is')\n",
    "    raw_text = raw_text.replace(\"she's\", 'she is')\n",
    "    raw_text = raw_text.replace(\"shouldn't\", 'should not')\n",
    "    raw_text = raw_text.replace(\"that's\", 'that is')\n",
    "    raw_text = raw_text.replace(\"they're\", 'they are')\n",
    "    raw_text = raw_text.replace(\"there's\", 'there are')\n",
    "    raw_text = raw_text.replace(\"we're\", 'we are')\n",
    "    raw_text = raw_text.replace(\"we've\", 'we have')\n",
    "    raw_text = raw_text.replace(\"you're\", 'you are')\n",
    "    raw_text = raw_text.replace(\"you've\", 'you have')\n",
    "\n",
    "    # Fix other contractions\n",
    "    raw_text = raw_text.replace(\"'s\", ' is')\n",
    "    \n",
    "    cleaned_text = raw_text\n",
    "    \n",
    "    return(cleaned_text)"
   ]
  },
  {
   "cell_type": "code",
   "execution_count": 75,
   "metadata": {},
   "outputs": [],
   "source": [
    "cleaned_documents = [clean_text(doc) for doc in documents]"
   ]
  },
  {
   "cell_type": "code",
   "execution_count": 76,
   "metadata": {},
   "outputs": [
    {
     "data": {
      "text/plain": [
       "['we are all just walking each other home',\n",
       " 'the quieter you become the more you can hear',\n",
       " 'we are fascinated by the words but where we meet is in the silence behind them',\n",
       " 'it is important to expect nothing to take every experience including the negative ones as merely steps on the path and to proceed',\n",
       " \"the most exquisite paradox as soon as you give it all up you can have it all as long as you want power you cannot have it the minute you do not want power you'll have more than you ever dreamed possible\",\n",
       " \"i would like my life to be a statement of love and compassion and where it isn't that is where my work lies\",\n",
       " 'the heart surrenders everything to the moment the mind judges and holds back',\n",
       " 'be here now',\n",
       " 'in most of our human relationships we spend much of our time reassuring one another that our costumes of identity are on straight',\n",
       " 'your problem is you are too busy holding on to your unworthiness',\n",
       " 'as long as you have certain desires about how it ought to be you cannot see how it is',\n",
       " 'treat everyone you meet like god in drag',\n",
       " \"the most important aspect of love is not in giving or the receiving: it is in the being when i need love from others or need to give love to others i'm caught in an unstable situation being in love rather than giving or taking love is the only thing that provides stability being in love means seeing the beloved all around me\",\n",
       " 'suffering is part of our training program for becoming wise',\n",
       " 'what you meet in another being is the projection of your own level of evolution',\n",
       " \"the spiritual journey is individual highly personal it cannot be organized or regulated it isn't true that everyone should follow one path listen to your own truth\",\n",
       " 'let is trade in all our judging for appreciating let is lay down our righteousness and just be together',\n",
       " \"only that in you which is me can hear what i'm saying\",\n",
       " 'the next message you need is always right where you are',\n",
       " 'everything changes once we identify with being the witness to the story instead of the actor in it',\n",
       " 'we are all affecting the world every moment whether we mean to or not our actions and states of mind matter because we are so deeply interconnected with one another',\n",
       " 'a feeling of aversion or attachment toward something is your clue that there are work to be done',\n",
       " \"i would say that the thrust of my life has been initially about getting free and then realizing that my freedom is not independent of everybody else then i am arriving at that circle where one works on oneself as a gift to other people so that one doesn't create more suffering i help people as a work on myself and i work on myself to help people\",\n",
       " \"i'm not interested in being a lover i'm interested in only being love\",\n",
       " 'the game is not about becoming somebody it is about becoming nobody',\n",
       " 'every religion is the product of the conceptual mind attempting to describe the mystery',\n",
       " 'learn to watch your drama unfold while at the same time knowing you are more than your drama',\n",
       " 'if you think you are free there are no escape possible',\n",
       " 'it is all real and it is all illusory: that is awareness ',\n",
       " 'we are here to awaken from the illusion of separateness',\n",
       " 'it is only when caterpillarness is done that one becomes a butterfly that again is part of this paradox you cannot rip away caterpillarness the whole trip occurs in an unfolding process of which we have no control',\n",
       " 'information is just bits of data knowledge is putting them together wisdom is transcending them',\n",
       " 'the resistance to the unpleasant situation is the root of suffering',\n",
       " 'when we see the beloved in each person it is like walking through a garden watching flowers bloom all around us',\n",
       " 'if you think you are enlightened go home for thanksgiving',\n",
       " 'our whole spiritual transformation brings us to the point where we realize that in our own being we are enough',\n",
       " 'it is very different because the indians live as if they are their souls and americans live as if they are their egos',\n",
       " 'everything in your life is there as a vehicle for your transformation',\n",
       " 'use it ',\n",
       " 'i can do nothing for you but work on myselfyou can do nothing for me but work on yourself ',\n",
       " 'healing does not mean going back to the way things were before but rather allowing what is now to move us closer to god',\n",
       " 'across planes of consciousness we have to live with the paradox that opposite things can be simultaneously true',\n",
       " 'the question we need to ask ourselves is whether there is any place we can stand in ourselves where we can look at all that is happening around us without freaking out where we can be quiet enough to hear our predicament and where we can begin to find ways of acting that are at least not contributing to further destabilization',\n",
       " 'our interactions with one another reflect a dance between love and fear',\n",
       " 'in our relationships how much can we allow them to become new and how much do we cling to what they used to be yesterday',\n",
       " 'all spiritual practices are illusions created by illusionists to escape illusion',\n",
       " 'the ego is an exquisite instrument enjoy it use it just do not get lost in it',\n",
       " 'by acting compassionately by helping to restore justice and to encourage peace we are acknowledging that we are all part of one another',\n",
       " 'there are much more in any given moment than we usually perceive and that we ourselves are much more than we usually perceive when you know that part of you can stand outside the drama of your life',\n",
       " 'psychedelics helped me to escape albeit momentarily from the prison of my mind it over rode the habit patterns of thought and i was able to taste innocence again looking at sensations freshly without the conceptual overly was very profound',\n",
       " 'compassion refers to the arising in the heart of the desire to relieve the suffering of all beings',\n",
       " 'suffering is the sandpaper of our incarnation it does its work of shaping us',\n",
       " 'spiritual practices help us move from identifying with the ego to identifying with the soul old age does that for you too it spiritualizes people naturally',\n",
       " 'prolong not the past',\n",
       " 'invite not the future',\n",
       " 'do not alter your innate wakefulness',\n",
       " 'fear not appearances',\n",
       " 'there in nothing more than this',\n",
       " 'just because you are seeing divine light experiencing waves of bliss or conversing with gods and goddesses is no reason to not know your zip code',\n",
       " 'in mystical traditions it is one is own readiness that makes experiences exoteric or esoteric',\n",
       " \"the secret isn't that you are not being told\",\n",
       " 'the secret is that you are not able to hear',\n",
       " 'you and i are the force for transformation in the world we are the consciousness that will define the nature of the reality we are moving into',\n",
       " 'remember we are all affecting the world every moment whether we mean to or not our actions and states of mind matter because we are so deeply interconnected with one another working on our own consciousness is the most important thing that we are doing at any moment and being love is the supreme creative act',\n",
       " 'our rational minds can never understand what has happened but our hearts if we can keep them open to god will find their own intuitive way',\n",
       " 'a moment comes when other is no longer other',\n",
       " 'as one individual changes the system changes',\n",
       " 'i see my life as an unfolding set of opportunities to awaken',\n",
       " 'early in the journey you wonder how long the journey will take and whether you will make it in this lifetime later you will see that where you are going is here and you will arrive nowso you stop asking',\n",
       " 'we are being trained through our incarnations trained to seek love trained to seek light trained to see the grace in suffering',\n",
       " 'if you want to be surrounded by souls become identified with your soul',\n",
       " 'it takes one to know one ',\n",
       " 'working on our own consciousness is the most important thing that we are doing at any moment and being love is a supreme creative act',\n",
       " \"souls love that is what souls do egos do not but souls do become a soul look around and you'll be amazed all the beings around you are souls be one see one when many people have this heart connection then we will know that we are all one we human beings all over the planet we will be one one love and do not leave out the animals and trees and clouds and galaxies it is all one it is one energy\",\n",
       " 'inspiration is god making contact with itself',\n",
       " 'when we are identified with awareness we are no longer living in a world of polarities everything is present at the same time',\n",
       " 'you may protest if you can love the person you are protesting against as much as you love yourself',\n",
       " 'when the heart is open it is easier for the mind to be turned toward god',\n",
       " 'cosmic humor especially about your own predicament is an important part of your journey',\n",
       " 'do what you can on this plane to relieve suffering by constantly working on yourself to be an instrument for the cessation of suffering to me that is what the emerging game is all about',\n",
       " 'the dance goes from realizing that you are separate (which is the awakening) to then trying to find your way back into the totality of which you are not only a part but which you are',\n",
       " 'religions are founded by what mystics say when they come back',\n",
       " 'but what the mystics say is not the same as what happened to them',\n",
       " 'emotions are like waves watch them disappear in the distance on the vast calm ocean',\n",
       " 'what we are seeing out there is the projection of where we are at the projection of the clingings of our minds',\n",
       " 'our journey is about being more deeply involved in life and yet less attached to it',\n",
       " 'now is now are you going to be here or not',\n",
       " 'you give up not meditating it is called meditation action there are no way out of it meditation means to be constantly extricating yourself from the clinging of mind',\n",
       " 'death has such great importance in this society that it affects everything i learned from my guru that death is not the enemy i see it as another moment yet it is the end of an incarnation and means going on to other incarnations',\n",
       " 'the cosmic humor is that if you desire to move mountains and you continue to purify yourself ultimately you will arrive at the place where you are able to move mountains but in order to arrive at this position of power you will have had to give up being he who wanted to move mountains so that you can be he who put the mountain there in the first place the humor is that finally when you have the power to move the mountain you are the person who placed it there so there the mountain stays',\n",
       " 'love is the most transformative medicine for love slowly transforms you into what psychedelics only get you to glimpse',\n",
       " \"when somebody provokes your anger the only reason you get angry is because you are holding on to how you think something is supposed to be you are denying how it is then you see it is the expectations of your own mind that are creating your own hell when you get frustrated because something isn't the way you thought it would be examine the way you thought not just the thing that frustrates you you'll see that a lot of your emotional suffering is created by your models of how you think the universe should be and your inability to allow it to be as it is\",\n",
       " \"it is only when you begin to understand that if you and i are truly in love if i go to the place in me that is love and you to the place in you that is love we are together' in love we start to understand that what love means is that we are sharing a common state together that state exists in you and it exists in me\",\n",
       " 'to him who has had the experience no explanation is necessary to him who has not none is possible',\n",
       " \"the freer i get the higher i go the higher i go the more i see the more i see the less i know the less i know the more i'm free\",\n",
       " 'when you are already in detroit you do not have to take a bus to get there',\n",
       " 'my life is a creative act like a painting or a concerto',\n",
       " 'i do not really believe anything i say because the nature of my work concerns the spaces between the words rather than the words themselves',\n",
       " 'i am embarrassed to admit what drew me to psychology i did not want to go to medical school i was getting good grades in psychology and i was charismatic and people in the psychology department liked me it was as low a level as that',\n",
       " 'when your center is firm when your faith is strong and unwavering then it will not matter what company you keep',\n",
       " 'the world is won by those who let it go',\n",
       " 'what the word god means is the mystery really it is the mystery that we face as humans the mystery of existence of suffering and of death',\n",
       " 'a woman once came to mahatma gandhi with her little boy she asked mahatma ji tell my little boy to stop eating sugar come back in three days said gandhi in three days the woman and the little boy returned and mahatma gandhi said to the little boy stop eating sugar the woman asked why was it necessary for us to return only after three days for you to tell my little boy that the mahatma replied: three days ago i had not stopped eating sugar',\n",
       " 'once you have drunk from the water of unconditional love no other well can satisfy your thirst the pangs of separation may become so intense that seeking the affection of the beloved becomes an obsession',\n",
       " 'the human mind is like that monkey incessantly active by its own nature then it becomes drunk with the wine of desire thus increasing its turbulence after desire takes possession comes the sting of the scorpion of jealousy at the success of others and last of all the demon of pride enters the mind making it think itself of all importance',\n",
       " 'this love is actually part of you it is always flowing through you it is like the subatomic texture of the universe the dark matter that connects everything when you tune in to that flow you will feel it in your own heart not your physical heart or your emotional heart but your spiritual heart the place you point to in your chest when you say i am',\n",
       " 'faith is not a belief faith is what is left when your beliefs have all been blown to hell faith is in the heart while beliefs are in the head experiences even spiritual experiences come and go as long as you base your faith on experience your faith is going to be constantly flickering because your experiences keep changing',\n",
       " \"if you never got on well with one of your parents and you have left that parent behind on your journey in such a way that the thought of that parent arouses anger or frustration or self pity or any emotion you are still attached you are still stuck and you must get that relationship straight before you can finish your work and what specifically does getting it straight mean well it means re perceiving that parent or whoever it may be with total compassion seeing him as a being of the spirit just like you who happens to be your parent and who happens to have this or that characteristic and who happens to be at a certain stage of his evolutionary journey you must see that all beings are just beings and that all the wrappings of personality and role and body are the coverings your attachments are only to the coverings and as long as you are attached to someone else is covering you are stuck and you keep them stuck in that attachment only when you can see the essence can see god in each human being do you free yourself and those about you it is hard work when you have spent years building a fixed model of who someone else is to abandon it but until that model is superceded by a compassionate model you are still stuck in india they say that in order to proceed with one is work one needs one is parents' blessings even if the parent has died you must in your heart and mind re perceive that relationship until it becomes like every one of your current relationships one of light if the person is still alive you may when you have proceeded far enough revisit and bring the relationship into the present for if you can keep the visit totally in the present you will be free and finished the parent may or may not be but that is his karmic predicament and if you have been truly in the present and if you find a place in which you can share even a brief eternal moment this is all it takes to get the blessing of your parent it obviously doesn't demand that the parent say i bless you rather it means that he hears you as a fellow being and honors the divine spark within you and even a moment in the here and now a single second shared in the eternal present in love is all that is required to free you both if you are ready to be freed from then on it is your own individual karma that determines how long you can maintain that high moment\",\n",
       " 'it is better to see god in everything than to try to figure it out',\n",
       " 'and suddenly i realized that he knew everything that was going on in my head all the time and that he still loved me because who we are is behind all that',\n",
       " 'what einstein demonstrated in physics is equally true of all other aspects of the cosmos: all reality is relative each reality is true only within given limits it is only one possible version of the way things are there are always multiple versions of reality to awaken from any single reality is to recognize its relative nature meditation is a device to do just that',\n",
       " 'the art of listening comes from a quiet mind and an open heart',\n",
       " 'to him to krishna to god to use your daily life and work as a conscious spiritual path means relinquishing your attachment to the fruits of the actions to how they come out instead of doing it for a reward or a result you do your work as an offering out of love for god through love for god your work becomes an expression of devotion',\n",
       " 'in a non traditional culture such as ours dominated by technology we value information far more than we do wisdom but there is a difference between the two information involves the acquisition organization and dissemination of facts a storing up of physical data but wisdom involves another equally crucial function: the emptying and quieting of the mind the application of the heart and the alchemy of reason and feeling',\n",
       " 'this getting straight not only applies to people but to things as well such as favorite music disliked foods special treats avoided places all your toys etc everything must be rerun through your compassion machine',\n",
       " 'the spiritual journey is not about acquiring something outside yourself rather you are penetrating the layers and veils to return to the deepest truth of your own being',\n",
       " 'relationships only work in a spiritual sense when you and i really see that we are one',\n",
       " 'the hindu deity hanuman offers a similar example of devotional service every act he performs becomes an offering to rama (god) his service brings him to the very edge of unitive love how powerful his vision: when i know who i am i am you he says kneeling before rama when i do not know who i am i serve you',\n",
       " 'you two are together in the stars but not in this world in this life',\n",
       " 'a moment is reflection will show you that you play many roles in the course of a day and that who you are from moment to moment changes there is the angry you and the kind you the lazy you the lustful you hundreds of different you is gurdjieff points out that sometimes one you does something for which all the other you is must pay for years or possibly the rest of this life',\n",
       " 'that is who we all are on this path spiritual family and friends it is just one big family we are all relatives until we realize we are really all the same and there are only one of us one loving awareness may you be one in that love',\n",
       " 'i think the message is that you do not need to go to anywhere else to find what you are seeking']"
      ]
     },
     "execution_count": 76,
     "metadata": {},
     "output_type": "execute_result"
    }
   ],
   "source": [
    "cleaned_documents"
   ]
  },
  {
   "cell_type": "code",
   "execution_count": 7,
   "metadata": {},
   "outputs": [],
   "source": [
    "# Input to fit count_vectorizer expects list of string(s)\n",
    "#clean_text = [raw_text]\n",
    "\n",
    "# # Get rid of stopwords \n",
    "# stoplist =  set(stopwords.words('english'))\n",
    "# clean_text = [word for word in raw_text.split() if word not in stoplist]\n",
    "\n",
    "# print(clean_text)"
   ]
  },
  {
   "cell_type": "code",
   "execution_count": 77,
   "metadata": {},
   "outputs": [
    {
     "data": {
      "text/plain": [
       "CountVectorizer(analyzer='word', binary=False, decode_error='strict',\n",
       "        dtype=<class 'numpy.int64'>, encoding='utf-8', input='content',\n",
       "        lowercase=True, max_df=1.0, max_features=None, min_df=1,\n",
       "        ngram_range=(1, 2), preprocessor=None, stop_words='english',\n",
       "        strip_accents=None, token_pattern='\\\\b[a-z][a-z]+\\\\b',\n",
       "        tokenizer=None, vocabulary=None)"
      ]
     },
     "execution_count": 77,
     "metadata": {},
     "output_type": "execute_result"
    }
   ],
   "source": [
    "# Create CountVectorizer for parsing / counting words\n",
    "count_vectorizer = CountVectorizer(ngram_range=(1, 2),\n",
    "                                  stop_words='english', token_pattern='\\\\b[a-z][a-z]+\\\\b')\n",
    "\n",
    "count_vectorizer.fit(cleaned_documents)"
   ]
  },
  {
   "cell_type": "code",
   "execution_count": 79,
   "metadata": {},
   "outputs": [],
   "source": [
    "# Create the term-document matrix\n",
    "# Transpose it so the terms are the rows\n",
    "counts = count_vectorizer.transform(cleaned_documents).transpose()"
   ]
  },
  {
   "cell_type": "code",
   "execution_count": 80,
   "metadata": {},
   "outputs": [
    {
     "data": {
      "text/plain": [
       "(1831, 122)"
      ]
     },
     "execution_count": 80,
     "metadata": {},
     "output_type": "execute_result"
    }
   ],
   "source": [
    "counts.shape"
   ]
  },
  {
   "cell_type": "code",
   "execution_count": 81,
   "metadata": {},
   "outputs": [],
   "source": [
    "# Convert sparse matrix of counts to a gensim corpus\n",
    "corpus = matutils.Sparse2Corpus(counts)"
   ]
  },
  {
   "cell_type": "code",
   "execution_count": 82,
   "metadata": {},
   "outputs": [],
   "source": [
    "id2word = dict((word, rowID) for rowID, word in count_vectorizer.vocabulary_.items())"
   ]
  },
  {
   "cell_type": "code",
   "execution_count": 83,
   "metadata": {},
   "outputs": [
    {
     "data": {
      "text/plain": [
       "1831"
      ]
     },
     "execution_count": 83,
     "metadata": {},
     "output_type": "execute_result"
    }
   ],
   "source": [
    "len(id2word)"
   ]
  },
  {
   "cell_type": "markdown",
   "metadata": {},
   "source": [
    "### LDA"
   ]
  },
  {
   "cell_type": "code",
   "execution_count": 84,
   "metadata": {},
   "outputs": [
    {
     "name": "stderr",
     "output_type": "stream",
     "text": [
      "/Applications/anaconda3/lib/python3.6/site-packages/gensim/models/ldamodel.py:497: RuntimeWarning: overflow encountered in exp\n",
      "  expElogthetad = np.exp(Elogthetad)\n"
     ]
    }
   ],
   "source": [
    "# Create LDA model\n",
    "lda = models.LdaModel(corpus=corpus, num_topics=5, minimum_probability=0.03, id2word=id2word, passes=10)"
   ]
  },
  {
   "cell_type": "code",
   "execution_count": 85,
   "metadata": {},
   "outputs": [
    {
     "data": {
      "text/plain": [
       "[(0,\n",
       "  'nan*\"planet\" + nan*\"planet love\" + nan*\"plane\" + nan*\"plane relieve\" + nan*\"planes\" + nan*\"planes consciousness\" + nan*\"places\" + nan*\"point chest\" + nan*\"play roles\" + nan*\"placed mountain\"'),\n",
       " (1,\n",
       "  'nan*\"planet\" + nan*\"planet love\" + nan*\"plane\" + nan*\"plane relieve\" + nan*\"planes\" + nan*\"planes consciousness\" + nan*\"places\" + nan*\"point chest\" + nan*\"play roles\" + nan*\"placed mountain\"'),\n",
       " (2,\n",
       "  'nan*\"planet\" + nan*\"planet love\" + nan*\"plane\" + nan*\"plane relieve\" + nan*\"planes\" + nan*\"planes consciousness\" + nan*\"places\" + nan*\"point chest\" + nan*\"play roles\" + nan*\"placed mountain\"'),\n",
       " (3,\n",
       "  'nan*\"planet\" + nan*\"planet love\" + nan*\"plane\" + nan*\"plane relieve\" + nan*\"planes\" + nan*\"planes consciousness\" + nan*\"places\" + nan*\"point chest\" + nan*\"play roles\" + nan*\"placed mountain\"'),\n",
       " (4,\n",
       "  'nan*\"planet\" + nan*\"planet love\" + nan*\"plane\" + nan*\"plane relieve\" + nan*\"planes\" + nan*\"planes consciousness\" + nan*\"places\" + nan*\"point chest\" + nan*\"play roles\" + nan*\"placed mountain\"')]"
      ]
     },
     "execution_count": 85,
     "metadata": {},
     "output_type": "execute_result"
    }
   ],
   "source": [
    "lda.print_topics()"
   ]
  },
  {
   "cell_type": "code",
   "execution_count": null,
   "metadata": {},
   "outputs": [],
   "source": []
  }
 ],
 "metadata": {
  "kernelspec": {
   "display_name": "Python 3",
   "language": "python",
   "name": "python3"
  },
  "language_info": {
   "codemirror_mode": {
    "name": "ipython",
    "version": 3
   },
   "file_extension": ".py",
   "mimetype": "text/x-python",
   "name": "python",
   "nbconvert_exporter": "python",
   "pygments_lexer": "ipython3",
   "version": "3.6.4"
  }
 },
 "nbformat": 4,
 "nbformat_minor": 2
}
